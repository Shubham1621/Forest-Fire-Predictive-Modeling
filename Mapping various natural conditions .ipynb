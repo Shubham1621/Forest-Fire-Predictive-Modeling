{
 "cells": [
  {
   "cell_type": "code",
   "execution_count": 1,
   "metadata": {},
   "outputs": [],
   "source": [
    "import ee\n",
    "import geemap\n",
    "\n",
    "ee.Initialize()"
   ]
  },
  {
   "cell_type": "code",
   "execution_count": 2,
   "metadata": {},
   "outputs": [
    {
     "data": {
      "application/vnd.jupyter.widget-view+json": {
       "model_id": "0c2e467d470c45b7ac3d774fdd4dc476",
       "version_major": 2,
       "version_minor": 0
      },
      "text/plain": [
       "Map(center=[23, 83], controls=(WidgetControl(options=['position', 'transparent_bg'], widget=HBox(children=(Tog…"
      ]
     },
     "metadata": {},
     "output_type": "display_data"
    }
   ],
   "source": [
    "Map = geemap.Map(center=[23,83], zoom=5)\n",
    "Map.basemap_demo()\n",
    "Map"
   ]
  },
  {
   "cell_type": "markdown",
   "metadata": {},
   "source": [
    "# Vegatation Cover"
   ]
  },
  {
   "cell_type": "code",
   "execution_count": 3,
   "metadata": {},
   "outputs": [
    {
     "name": "stdout",
     "output_type": "stream",
     "text": [
      "NLCD\n",
      "NWI\n",
      "MODIS/051/MCD12Q1\n",
      "GLOBCOVER\n",
      "JAXA/PALSAR\n",
      "MODIS/006/MCD12Q1\n",
      "Oxford\n",
      "AAFC/ACI\n",
      "COPERNICUS/CORINE/V20/100m\n",
      "COPERNICUS/Landcover/100m/Proba-V/Global\n",
      "USDA/NASS/CDL\n"
     ]
    }
   ],
   "source": [
    "legends = geemap.builtin_legends\n",
    "for legend in legends:\n",
    "    print(legend)"
   ]
  },
  {
   "cell_type": "code",
   "execution_count": 4,
   "metadata": {},
   "outputs": [
    {
     "data": {
      "application/vnd.jupyter.widget-view+json": {
       "model_id": "946d54ee36e74fd191e5a9b2dd45778e",
       "version_major": 2,
       "version_minor": 0
      },
      "text/plain": [
       "Map(center=[23, 83], controls=(WidgetControl(options=['position', 'transparent_bg'], widget=HBox(children=(Tog…"
      ]
     },
     "metadata": {},
     "output_type": "display_data"
    }
   ],
   "source": [
    "Map1 = geemap.Map()\n",
    "Map1.add_basemap('HYBRID')\n",
    "\n",
    "landcover = ee.Image('MODIS/051/MCD12Q1/2013_01_01') \\\n",
    "    .select('Land_Cover_Type_1')\n",
    "\n",
    "Map1.setCenter(83, 23, 4)\n",
    "Map1.addLayer(landcover, {}, 'MODIS Land Cover')\n",
    "Map1.add_legend(builtin_legend='MODIS/051/MCD12Q1')\n",
    "\n",
    "Map1"
   ]
  },
  {
   "cell_type": "markdown",
   "metadata": {},
   "source": [
    "# Surface Temperature"
   ]
  },
  {
   "cell_type": "code",
   "execution_count": 5,
   "metadata": {},
   "outputs": [],
   "source": [
    "Map2 = geemap.Map(center=[23,83], zoom=5)\n",
    "\n",
    "dataset = ee.ImageCollection('MODIS/006/MOD11A2') \\\n",
    "                  .filter(ee.Filter.date('2018-01-01', '2018-05-01'))\n",
    "landSurfaceTemperature = dataset.select('LST_Day_1km')\n",
    "landSurfaceTemperatureVis = {\n",
    "  'min': 14000.0,\n",
    "  'max': 16000.0,\n",
    "  'palette': [\n",
    "    '040274', '040281', '0502a3', '0502b8', '0502ce', '0502e6',\n",
    "    '0602ff', '235cb1', '307ef3', '269db1', '30c8e2', '32d3ef',\n",
    "    '3be285', '3ff38f', '86e26f', '3ae237', 'b5e22e', 'd6e21f',\n",
    "    'fff705', 'ffd611', 'ffb613', 'ff8b13', 'ff6e08', 'ff500d',\n",
    "    'ff0000', 'de0101', 'c21301', 'a71001', '911003'\n",
    "  ],\n",
    "}\n",
    "Map2.setCenter(83, 23, 5)\n",
    "Map2.addLayer(\n",
    "    landSurfaceTemperature, landSurfaceTemperatureVis,\n",
    "    'Land Surface Temperature')"
   ]
  },
  {
   "cell_type": "code",
   "execution_count": 6,
   "metadata": {},
   "outputs": [
    {
     "data": {
      "application/vnd.jupyter.widget-view+json": {
       "model_id": "375e7d98c1cf4cdea7b860d3ec3c6714",
       "version_major": 2,
       "version_minor": 0
      },
      "text/plain": [
       "Map(center=[23, 83], controls=(WidgetControl(options=['position', 'transparent_bg'], widget=HBox(children=(Tog…"
      ]
     },
     "metadata": {},
     "output_type": "display_data"
    }
   ],
   "source": [
    "Map2"
   ]
  },
  {
   "cell_type": "markdown",
   "metadata": {},
   "source": [
    "# Topography Map"
   ]
  },
  {
   "cell_type": "code",
   "execution_count": 7,
   "metadata": {},
   "outputs": [
    {
     "data": {
      "application/vnd.jupyter.widget-view+json": {
       "model_id": "d6dd03496e034998b132d34311f1ec8f",
       "version_major": 2,
       "version_minor": 0
      },
      "text/plain": [
       "Map(center=[23, 83], controls=(WidgetControl(options=['position', 'transparent_bg'], widget=HBox(children=(Tog…"
      ]
     },
     "metadata": {},
     "output_type": "display_data"
    }
   ],
   "source": [
    "Map3 = geemap.Map(center=[23,83], zoom=5)\n",
    "Map3.add_basemap('OpenTopoMap')\n",
    "Map3"
   ]
  },
  {
   "cell_type": "code",
   "execution_count": null,
   "metadata": {},
   "outputs": [],
   "source": []
  },
  {
   "cell_type": "code",
   "execution_count": null,
   "metadata": {},
   "outputs": [],
   "source": []
  },
  {
   "cell_type": "code",
   "execution_count": null,
   "metadata": {},
   "outputs": [],
   "source": []
  }
 ],
 "metadata": {
  "kernelspec": {
   "display_name": "Python 3",
   "language": "python",
   "name": "python3"
  },
  "language_info": {
   "codemirror_mode": {
    "name": "ipython",
    "version": 3
   },
   "file_extension": ".py",
   "mimetype": "text/x-python",
   "name": "python",
   "nbconvert_exporter": "python",
   "pygments_lexer": "ipython3",
   "version": "3.8.5"
  }
 },
 "nbformat": 4,
 "nbformat_minor": 4
}
